{
 "cells": [
  {
   "cell_type": "markdown",
   "metadata": {},
   "source": [
    "# Deep feature Synthesis"
   ]
  },
  {
   "cell_type": "markdown",
   "metadata": {},
   "source": [
    " import library \n",
    " if featuretools is not recognized. Install featuretools using `pip install featuretools`"
   ]
  },
  {
   "cell_type": "code",
   "execution_count": 27,
   "metadata": {},
   "outputs": [],
   "source": [
    "import featuretools as ft"
   ]
  },
  {
   "cell_type": "code",
   "execution_count": 29,
   "metadata": {},
   "outputs": [],
   "source": [
    "es = ft.demo.load_mock_customer(return_entityset=True)"
   ]
  },
  {
   "cell_type": "code",
   "execution_count": 30,
   "metadata": {},
   "outputs": [
    {
     "data": {
      "text/plain": [
       "Entityset: transactions\n",
       "  Entities:\n",
       "    transactions [Rows: 500, Columns: 5]\n",
       "    products [Rows: 5, Columns: 2]\n",
       "    sessions [Rows: 35, Columns: 4]\n",
       "    customers [Rows: 5, Columns: 3]\n",
       "  Relationships:\n",
       "    transactions.product_id -> products.product_id\n",
       "    transactions.session_id -> sessions.session_id\n",
       "    sessions.customer_id -> customers.customer_id"
      ]
     },
     "execution_count": 30,
     "metadata": {},
     "output_type": "execute_result"
    }
   ],
   "source": [
    "# display entity set and relation\n",
    "es"
   ]
  },
  {
   "cell_type": "markdown",
   "metadata": {},
   "source": [
    "### Feature creation on customer entity\n",
    " Later change customers to sessions and see ease of feature creation on different entity "
   ]
  },
  {
   "cell_type": "code",
   "execution_count": 31,
   "metadata": {},
   "outputs": [
    {
     "name": "stdout",
     "output_type": "stream",
     "text": [
      "Built 8 features\n",
      "Elapsed: 00:00 | Remaining: 00:00 | Progress: 100%|████████████████████████████████████████████| Calculated: 1/1 chunks\n"
     ]
    }
   ],
   "source": [
    "    # create features on target entity with progress status \n",
    "    feature_matrix, c = ft.dfs(entityset=es,\n",
    "                                          target_entity=\"customers\",\n",
    "                                          verbose=True,\n",
    "                                          max_depth=1)"
   ]
  },
  {
   "cell_type": "markdown",
   "metadata": {},
   "source": [
    "### See feature definations"
   ]
  },
  {
   "cell_type": "code",
   "execution_count": 23,
   "metadata": {},
   "outputs": [
    {
     "data": {
      "text/plain": [
       "[<Feature: customer_id>,\n",
       " <Feature: device>,\n",
       " <Feature: SUM(transactions.amount)>,\n",
       " <Feature: STD(transactions.amount)>,\n",
       " <Feature: MAX(transactions.amount)>,\n",
       " <Feature: SKEW(transactions.amount)>,\n",
       " <Feature: MIN(transactions.amount)>,\n",
       " <Feature: MEAN(transactions.amount)>,\n",
       " <Feature: COUNT(transactions)>,\n",
       " <Feature: NUM_UNIQUE(transactions.product_id)>,\n",
       " <Feature: MODE(transactions.product_id)>,\n",
       " <Feature: DAY(session_start)>,\n",
       " <Feature: YEAR(session_start)>,\n",
       " <Feature: MONTH(session_start)>,\n",
       " <Feature: WEEKDAY(session_start)>,\n",
       " <Feature: customers.zip_code>]"
      ]
     },
     "execution_count": 23,
     "metadata": {},
     "output_type": "execute_result"
    }
   ],
   "source": [
    "feature_defs"
   ]
  },
  {
   "cell_type": "markdown",
   "metadata": {},
   "source": [
    "### See feature table"
   ]
  },
  {
   "cell_type": "code",
   "execution_count": 24,
   "metadata": {},
   "outputs": [
    {
     "data": {
      "text/html": [
       "<div>\n",
       "<style scoped>\n",
       "    .dataframe tbody tr th:only-of-type {\n",
       "        vertical-align: middle;\n",
       "    }\n",
       "\n",
       "    .dataframe tbody tr th {\n",
       "        vertical-align: top;\n",
       "    }\n",
       "\n",
       "    .dataframe thead th {\n",
       "        text-align: right;\n",
       "    }\n",
       "</style>\n",
       "<table border=\"1\" class=\"dataframe\">\n",
       "  <thead>\n",
       "    <tr style=\"text-align: right;\">\n",
       "      <th></th>\n",
       "      <th>zip_code</th>\n",
       "      <th>COUNT(sessions)</th>\n",
       "      <th>NUM_UNIQUE(sessions.device)</th>\n",
       "      <th>MODE(sessions.device)</th>\n",
       "      <th>DAY(join_date)</th>\n",
       "      <th>YEAR(join_date)</th>\n",
       "      <th>MONTH(join_date)</th>\n",
       "      <th>WEEKDAY(join_date)</th>\n",
       "    </tr>\n",
       "    <tr>\n",
       "      <th>customer_id</th>\n",
       "      <th></th>\n",
       "      <th></th>\n",
       "      <th></th>\n",
       "      <th></th>\n",
       "      <th></th>\n",
       "      <th></th>\n",
       "      <th></th>\n",
       "      <th></th>\n",
       "    </tr>\n",
       "  </thead>\n",
       "  <tbody>\n",
       "    <tr>\n",
       "      <th>1</th>\n",
       "      <td>60091</td>\n",
       "      <td>10</td>\n",
       "      <td>3</td>\n",
       "      <td>desktop</td>\n",
       "      <td>1</td>\n",
       "      <td>2008</td>\n",
       "      <td>1</td>\n",
       "      <td>1</td>\n",
       "    </tr>\n",
       "    <tr>\n",
       "      <th>2</th>\n",
       "      <td>02139</td>\n",
       "      <td>8</td>\n",
       "      <td>3</td>\n",
       "      <td>mobile</td>\n",
       "      <td>20</td>\n",
       "      <td>2008</td>\n",
       "      <td>2</td>\n",
       "      <td>2</td>\n",
       "    </tr>\n",
       "    <tr>\n",
       "      <th>3</th>\n",
       "      <td>02139</td>\n",
       "      <td>5</td>\n",
       "      <td>2</td>\n",
       "      <td>desktop</td>\n",
       "      <td>10</td>\n",
       "      <td>2008</td>\n",
       "      <td>4</td>\n",
       "      <td>3</td>\n",
       "    </tr>\n",
       "    <tr>\n",
       "      <th>4</th>\n",
       "      <td>60091</td>\n",
       "      <td>8</td>\n",
       "      <td>3</td>\n",
       "      <td>desktop</td>\n",
       "      <td>30</td>\n",
       "      <td>2008</td>\n",
       "      <td>5</td>\n",
       "      <td>4</td>\n",
       "    </tr>\n",
       "    <tr>\n",
       "      <th>5</th>\n",
       "      <td>02139</td>\n",
       "      <td>4</td>\n",
       "      <td>3</td>\n",
       "      <td>tablet</td>\n",
       "      <td>19</td>\n",
       "      <td>2008</td>\n",
       "      <td>7</td>\n",
       "      <td>5</td>\n",
       "    </tr>\n",
       "  </tbody>\n",
       "</table>\n",
       "</div>"
      ],
      "text/plain": [
       "            zip_code  COUNT(sessions)  NUM_UNIQUE(sessions.device)  \\\n",
       "customer_id                                                          \n",
       "1              60091               10                            3   \n",
       "2              02139                8                            3   \n",
       "3              02139                5                            2   \n",
       "4              60091                8                            3   \n",
       "5              02139                4                            3   \n",
       "\n",
       "            MODE(sessions.device)  DAY(join_date)  YEAR(join_date)  \\\n",
       "customer_id                                                          \n",
       "1                         desktop               1             2008   \n",
       "2                          mobile              20             2008   \n",
       "3                         desktop              10             2008   \n",
       "4                         desktop              30             2008   \n",
       "5                          tablet              19             2008   \n",
       "\n",
       "             MONTH(join_date)  WEEKDAY(join_date)  \n",
       "customer_id                                        \n",
       "1                           1                   1  \n",
       "2                           2                   2  \n",
       "3                           4                   3  \n",
       "4                           5                   4  \n",
       "5                           7                   5  "
      ]
     },
     "execution_count": 24,
     "metadata": {},
     "output_type": "execute_result"
    }
   ],
   "source": [
    "feature_matrix"
   ]
  },
  {
   "cell_type": "markdown",
   "metadata": {},
   "source": [
    "## Thank you\n",
    "Please share feedback [email](mailto:rahul.mahendra2009@gmail.com)"
   ]
  }
 ],
 "metadata": {
  "kernelspec": {
   "display_name": "Python 3",
   "language": "python",
   "name": "python3"
  },
  "language_info": {
   "codemirror_mode": {
    "name": "ipython",
    "version": 3
   },
   "file_extension": ".py",
   "mimetype": "text/x-python",
   "name": "python",
   "nbconvert_exporter": "python",
   "pygments_lexer": "ipython3",
   "version": "3.6.6"
  }
 },
 "nbformat": 4,
 "nbformat_minor": 2
}
